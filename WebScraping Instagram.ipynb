{
 "cells": [
  {
   "cell_type": "markdown",
   "metadata": {},
   "source": [
    "# Webscraping Instagram"
   ]
  },
  {
   "cell_type": "markdown",
   "metadata": {},
   "source": [
    "## Connection use Selenium"
   ]
  },
  {
   "cell_type": "code",
   "execution_count": 37,
   "metadata": {},
   "outputs": [],
   "source": [
    "#import libraries\n",
    "from selenium import webdriver\n",
    "import urllib.request\n",
    "from selenium.common.exceptions import TimeoutException\n",
    "from selenium.webdriver.support.ui import WebDriverWait # available since 2.4.0\n",
    "from selenium.webdriver.support import expected_conditions as EC # available since 2.26.0\n",
    "from selenium.webdriver.common.action_chains import ActionChains\n",
    "from selenium.webdriver.common.keys import Keys\n",
    "import time"
   ]
  },
  {
   "cell_type": "code",
   "execution_count": 2,
   "metadata": {},
   "outputs": [],
   "source": [
    "# Prepare the code for easily opening new browser window\n",
    "driver_option = webdriver.ChromeOptions()\n",
    "driver_option.add_argument(\" — incognito\")\n",
    "chromedriver_path = '/home/igor/Estudos/Ciencia de Dados e Big Data/RI/chromedriver_linux'\n",
    "\n",
    "def create_webdriver():\n",
    "    return webdriver.Chrome(executable_path=chromedriver_path, options = driver_option)"
   ]
  },
  {
   "cell_type": "code",
   "execution_count": 32,
   "metadata": {},
   "outputs": [],
   "source": [
    "#Open Google Chrome\n",
    "driver = webdriver.Chrome(executable_path='/home/igor/Estudos/Ciencia de Dados e Big Data/RI/chromedriver_linux')\n",
    "#Open page instagood\n",
    "driver.get(\"https://www.instagram.com/explore/tags/instagood/\")\n",
    "photo = driver.find_element_by_xpath('//*[@id=\"react-root\"]/section/main/article/div[1]/div/div/div[1]/div[1]')\n",
    "time.sleep(3)\n",
    "ActionChains(driver).click(photo).perform()"
   ]
  },
  {
   "cell_type": "code",
   "execution_count": 45,
   "metadata": {},
   "outputs": [
    {
     "name": "stdout",
     "output_type": "stream",
     "text": [
      "0\n",
      "1\n",
      "2\n",
      "3\n",
      "4\n",
      "5\n",
      "6\n",
      "7\n",
      "8\n",
      "9\n"
     ]
    }
   ],
   "source": [
    "#Change each photo\n",
    "for i in range(10):\n",
    "    ActionChains(driver).send_keys(Keys.ARROW_RIGHT).perform()\n",
    "    time.sleep(2)\n",
    "    print(i)"
   ]
  },
  {
   "cell_type": "markdown",
   "metadata": {},
   "source": [
    "#### Check these\n",
    "https://www.linkedin.com/pulse/scraping-instagram-selenuim-aman-khalid/\n",
    "\n",
    "https://selenium-python.readthedocs.io/api.html#module-selenium.webdriver.common.action_chains"
   ]
  },
  {
   "cell_type": "code",
   "execution_count": 21,
   "metadata": {},
   "outputs": [],
   "source": [
    "#Close connection\n",
    "#driver.quit()"
   ]
  }
 ],
 "metadata": {
  "kernelspec": {
   "display_name": "Python 3",
   "language": "python",
   "name": "python3"
  },
  "language_info": {
   "codemirror_mode": {
    "name": "ipython",
    "version": 3
   },
   "file_extension": ".py",
   "mimetype": "text/x-python",
   "name": "python",
   "nbconvert_exporter": "python",
   "pygments_lexer": "ipython3",
   "version": "3.7.3"
  }
 },
 "nbformat": 4,
 "nbformat_minor": 2
}
