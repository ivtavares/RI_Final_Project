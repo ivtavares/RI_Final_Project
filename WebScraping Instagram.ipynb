{
 "cells": [
  {
   "cell_type": "markdown",
   "metadata": {},
   "source": [
    "# Webscraping Instagram"
   ]
  },
  {
   "cell_type": "markdown",
   "metadata": {},
   "source": [
    "## Connection use Selenium"
   ]
  },
  {
   "cell_type": "code",
   "execution_count": 17,
   "metadata": {},
   "outputs": [],
   "source": [
    "#import libraries\n",
    "from selenium import webdriver\n",
    "import urllib.request\n",
    "import pandas as pd\n",
    "from selenium.common.exceptions import TimeoutException\n",
    "from selenium.webdriver.common.by import By\n",
    "from selenium.webdriver.support.ui import WebDriverWait # available since 2.4.0\n",
    "from selenium.webdriver.support import expected_conditions as EC # available since 2.26.0\n",
    "from selenium.webdriver.common.action_chains import ActionChains\n",
    "from selenium.webdriver.common.keys import Keys\n",
    "import time"
   ]
  },
  {
   "cell_type": "code",
   "execution_count": 2,
   "metadata": {},
   "outputs": [],
   "source": [
    "# Prepare the code for easily opening new browser window\n",
    "driver_option = webdriver.ChromeOptions()\n",
    "driver_option.add_argument(\" — incognito\")\n",
    "chromedriver_path = '/home/igor/Estudos/Ciencia de Dados e Big Data/RI/chromedriver_linux'\n",
    "\n",
    "def create_webdriver():\n",
    "    return webdriver.Chrome(executable_path=chromedriver_path, options = driver_option)"
   ]
  },
  {
   "cell_type": "code",
   "execution_count": 42,
   "metadata": {},
   "outputs": [],
   "source": [
    "#Open Google Chrome\n",
    "driver = create_webdriver()\n",
    "#Open page instagood\n",
    "driver.get(\"https://www.instagram.com/explore/tags/instagood/\")\n",
    "time = 10\n",
    "wait = WebDriverWait(driver, time)\n",
    "wait.until(EC.presence_of_element_located((By.XPATH, '//*[@id=\"react-root\"]/section/main/article/div[1]/div/div/div[1]/div[1]')))\n",
    "photo = driver.find_element_by_xpath('//*[@id=\"react-root\"]/section/main/article/div[1]/div/div/div[1]/div[1]')\n",
    "ActionChains(driver).click(photo).perform()"
   ]
  },
  {
   "cell_type": "code",
   "execution_count": null,
   "metadata": {},
   "outputs": [],
   "source": [
    "#Capture URLs\n",
    "instagram_url = []\n",
    "for i in range(30000):\n",
    "    try:\n",
    "        wait.until(EC.presence_of_element_located((By.XPATH, \"//a[@class='HBoOv coreSpriteRightPaginationArrow']\")))\n",
    "        instagram_url.append(driver.current_url)\n",
    "    except:\n",
    "        ActionChains(driver).send_keys(Keys.ARROW_LEFT).perform()\n",
    "    ActionChains(driver).send_keys(Keys.ARROW_RIGHT).perform()"
   ]
  },
  {
   "cell_type": "code",
   "execution_count": 51,
   "metadata": {},
   "outputs": [],
   "source": [
    "pd_insta_url = pd.DataFrame(instagram_url, columns= ['urls'])\n",
    "pd_insta_url.to_csv('instagram_urls.csv')"
   ]
  },
  {
   "cell_type": "code",
   "execution_count": 54,
   "metadata": {},
   "outputs": [],
   "source": []
  },
  {
   "cell_type": "code",
   "execution_count": null,
   "metadata": {},
   "outputs": [],
   "source": [
    "#Change each photo\n",
    "i = 0\n",
    "while i <= 5000:\n",
    "    print(i)\n",
    "    try:\n",
    "        wait.until(EC.presence_of_element_located((By.XPATH, \"//h2[@class='BrX75']/a\")))\n",
    "        user = driver.find_element_by_xpath(\"//h2[@class='BrX75']/a\").text\n",
    "        print(user)\n",
    "        wait.until(EC.presence_of_element_located((By.XPATH, \"//div[@class='KL4Bh']/img\")))\n",
    "        image = driver.find_elements_by_xpath(\"//div[@class='KL4Bh']/img\")\n",
    "        if i >= len(image): \n",
    "            pos = len(image)-1\n",
    "        else:\n",
    "            pos = i\n",
    "        if image[pos].get_attribute('alt')=='':\n",
    "            description = 'video'\n",
    "        else:\n",
    "             description =  image[pos].get_attribute('alt')\n",
    "        print(pos,': ',description)\n",
    "\n",
    "    except:\n",
    "        time +=1\n",
    "        wait = WebDriverWait(driver, time)\n",
    "    ActionChains(driver).send_keys(Keys.ARROW_RIGHT).perform()\n",
    "    i+=1"
   ]
  },
  {
   "cell_type": "code",
   "execution_count": 38,
   "metadata": {},
   "outputs": [
    {
     "data": {
      "text/plain": [
       "'Image may contain: dessert and food'"
      ]
     },
     "execution_count": 38,
     "metadata": {},
     "output_type": "execute_result"
    }
   ],
   "source": [
    "image = driver.find_elements_by_xpath(\"//div[@class='KL4Bh']/img\")\n",
    "len(image)\n",
    "image[len(image)-1].get_attribute('alt')"
   ]
  },
  {
   "cell_type": "markdown",
   "metadata": {},
   "source": [
    "#### Check these\n",
    "https://www.linkedin.com/pulse/scraping-instagram-selenuim-aman-khalid/\n",
    "\n",
    "https://selenium-python.readthedocs.io/api.html#module-selenium.webdriver.common.action_chains"
   ]
  },
  {
   "cell_type": "code",
   "execution_count": 21,
   "metadata": {},
   "outputs": [],
   "source": [
    "#Close connection\n",
    "#driver.quit()"
   ]
  }
 ],
 "metadata": {
  "kernelspec": {
   "display_name": "Python 3",
   "language": "python",
   "name": "python3"
  },
  "language_info": {
   "codemirror_mode": {
    "name": "ipython",
    "version": 3
   },
   "file_extension": ".py",
   "mimetype": "text/x-python",
   "name": "python",
   "nbconvert_exporter": "python",
   "pygments_lexer": "ipython3",
   "version": "3.7.3"
  }
 },
 "nbformat": 4,
 "nbformat_minor": 2
}
