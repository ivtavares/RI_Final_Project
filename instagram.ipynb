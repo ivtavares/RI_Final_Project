{
 "cells": [
  {
   "cell_type": "markdown",
   "metadata": {
    "colab_type": "text",
    "id": "8BnTJ9qT29lV"
   },
   "source": [
    "Fonte: https://www.everydayplots.com/instagram-hashtag-analysis-python/"
   ]
  },
  {
   "cell_type": "markdown",
   "metadata": {
    "colab_type": "text",
    "id": "n-z9FFo22s14"
   },
   "source": [
    "**Part 1 – Initialize**"
   ]
  },
  {
   "cell_type": "code",
   "execution_count": null,
   "metadata": {
    "colab": {
     "base_uri": "https://localhost:8080/",
     "height": 51
    },
    "colab_type": "code",
    "id": "c6ueVS1qy7df",
    "outputId": "2b8b2540-ec62-43ff-afb7-2d9c3dc3b799"
   },
   "outputs": [
    {
     "name": "stdout",
     "output_type": "stream",
     "text": [
      "Requirement already up-to-date: selenium in /usr/local/lib/python3.6/dist-packages (3.141.0)\n",
      "Requirement already satisfied, skipping upgrade: urllib3 in /usr/local/lib/python3.6/dist-packages (from selenium) (1.24.3)\n"
     ]
    }
   ],
   "source": [
    "!pip install selenium -U\n",
    "from selenium import webdriver\n",
    "from bs4 import BeautifulSoup\n",
    "import pandas as pd\n",
    "import datetime"
   ]
  },
  {
   "cell_type": "markdown",
   "metadata": {
    "colab_type": "text",
    "id": "csVndp6s2xlh"
   },
   "source": [
    "**Part 2 – Get the hashtag list**"
   ]
  },
  {
   "cell_type": "code",
   "execution_count": null,
   "metadata": {
    "colab": {
     "base_uri": "https://localhost:8080/",
     "height": 233
    },
    "colab_type": "code",
    "id": "5OVnqelbznk5",
    "outputId": "11ce91f6-128a-4a4c-e02b-63a000cfeffe"
   },
   "outputs": [
    {
     "ename": "TypeError",
     "evalue": "ignored",
     "output_type": "error",
     "traceback": [
      "\u001b[0;31m---------------------------------------------------------------------------\u001b[0m",
      "\u001b[0;31mTypeError\u001b[0m                                 Traceback (most recent call last)",
      "\u001b[0;32m<ipython-input-44-075c549a9bed>\u001b[0m in \u001b[0;36m<module>\u001b[0;34m()\u001b[0m\n\u001b[1;32m      6\u001b[0m \u001b[0;31m#driver.get('https://www.instagram.com/p/BiRnjDsFKzl/')\u001b[0m\u001b[0;34m\u001b[0m\u001b[0;34m\u001b[0m\u001b[0;34m\u001b[0m\u001b[0m\n\u001b[1;32m      7\u001b[0m \u001b[0;31m#driver.get('https://www.instagram.com/explore/tags/instagood/')\u001b[0m\u001b[0;34m\u001b[0m\u001b[0;34m\u001b[0m\u001b[0;34m\u001b[0m\u001b[0m\n\u001b[0;32m----> 8\u001b[0;31m \u001b[0mdriver\u001b[0m\u001b[0;34m.\u001b[0m\u001b[0mget\u001b[0m\u001b[0;34m(\u001b[0m\u001b[0;34m'https://www.instagram.com/p/BzOFahUIY3D/'\u001b[0m\u001b[0;34m)\u001b[0m\u001b[0;34m\u001b[0m\u001b[0;34m\u001b[0m\u001b[0m\n\u001b[0m\u001b[1;32m      9\u001b[0m \u001b[0;34m\u001b[0m\u001b[0m\n\u001b[1;32m     10\u001b[0m \u001b[0msoup\u001b[0m \u001b[0;34m=\u001b[0m \u001b[0mBeautifulSoup\u001b[0m\u001b[0;34m(\u001b[0m\u001b[0mdriver\u001b[0m\u001b[0;34m.\u001b[0m\u001b[0mpage_source\u001b[0m\u001b[0;34m,\u001b[0m\u001b[0;34m\"lxml\"\u001b[0m\u001b[0;34m)\u001b[0m\u001b[0;34m\u001b[0m\u001b[0;34m\u001b[0m\u001b[0m\n",
      "\u001b[0;31mTypeError\u001b[0m: get() missing 1 required positional argument: 'url'"
     ]
    }
   ],
   "source": [
    "driver = webdriver.Chrome\n",
    "\n",
    "driver.get\n",
    " \n",
    "# Extract description of a post from Instagram link\n",
    "#driver.get('https://www.instagram.com/p/BiRnjDsFKzl/')\n",
    "#driver.get('https://www.instagram.com/explore/tags/instagood/')\n",
    "driver.get('https://www.instagram.com/p/BzOFahUIY3D/')\n",
    "\n",
    "soup = BeautifulSoup(driver.page_source,\"lxml\")\n",
    "desc = \" \"\n",
    " \n",
    "for item in soup.findAll('a'):\n",
    "    desc= desc + \" \" + str(item.string)\n",
    " \n",
    "# Extract tag list from Instagram post description\n",
    "taglist = desc.split()\n",
    "taglist = [x for x in taglist if x.startswith('#')]\n",
    "index = 0\n",
    "while index < len(taglist):\n",
    "    taglist[index] = taglist[index].strip('#')\n",
    "    index += 1\n",
    " \n",
    "# (OR) Copy-paste your tag list manually here\n",
    "#taglist = ['art', 'instaart', 'iblackwork']\n",
    " \n",
    "print(taglist)"
   ]
  },
  {
   "cell_type": "markdown",
   "metadata": {
    "colab_type": "text",
    "id": "Qr4c_Kl-2440"
   },
   "source": [
    "**Part 3 – Loop over hashtags and extract information**"
   ]
  },
  {
   "cell_type": "code",
   "execution_count": null,
   "metadata": {
    "colab": {
     "base_uri": "https://localhost:8080/",
     "height": 233
    },
    "colab_type": "code",
    "id": "Ohg-RVzF2por",
    "outputId": "929fa10c-4813-401a-9dcd-4151531266c6"
   },
   "outputs": [
    {
     "ename": "NameError",
     "evalue": "ignored",
     "output_type": "error",
     "traceback": [
      "\u001b[0;31m---------------------------------------------------------------------------\u001b[0m",
      "\u001b[0;31mNameError\u001b[0m                                 Traceback (most recent call last)",
      "\u001b[0;32m<ipython-input-19-7d48e88eb69f>\u001b[0m in \u001b[0;36m<module>\u001b[0;34m()\u001b[0m\n\u001b[1;32m      2\u001b[0m \u001b[0;34m\u001b[0m\u001b[0m\n\u001b[1;32m      3\u001b[0m \u001b[0;31m# Loop over each hashtag to extract information\u001b[0m\u001b[0;34m\u001b[0m\u001b[0;34m\u001b[0m\u001b[0;34m\u001b[0m\u001b[0m\n\u001b[0;32m----> 4\u001b[0;31m \u001b[0;32mfor\u001b[0m \u001b[0mtag\u001b[0m \u001b[0;32min\u001b[0m \u001b[0mtaglist\u001b[0m\u001b[0;34m:\u001b[0m\u001b[0;34m\u001b[0m\u001b[0;34m\u001b[0m\u001b[0m\n\u001b[0m\u001b[1;32m      5\u001b[0m \u001b[0;34m\u001b[0m\u001b[0m\n\u001b[1;32m      6\u001b[0m     \u001b[0mdriver\u001b[0m\u001b[0;34m.\u001b[0m\u001b[0mget\u001b[0m\u001b[0;34m(\u001b[0m\u001b[0;34m'https://www.instagram.com/explore/tags/'\u001b[0m\u001b[0;34m+\u001b[0m\u001b[0mstr\u001b[0m\u001b[0;34m(\u001b[0m\u001b[0mtag\u001b[0m\u001b[0;34m)\u001b[0m\u001b[0;34m)\u001b[0m\u001b[0;34m\u001b[0m\u001b[0;34m\u001b[0m\u001b[0m\n",
      "\u001b[0;31mNameError\u001b[0m: name 'taglist' is not defined"
     ]
    }
   ],
   "source": [
    "# Define dataframe to store hashtag information\n",
    "tag_df  = pd.DataFrame(columns = ['Hashtag', 'Number of Posts', 'Posting Freq (mins)'])\n",
    " \n",
    "# Loop over each hashtag to extract information\n",
    "for tag in taglist:\n",
    "     \n",
    "    driver.get('https://www.instagram.com/explore/tags/'+str(tag))\n",
    "    soup = BeautifulSoup(driver.page_source,\"lxml\")\n",
    "     \n",
    "    # Extract current hashtag name\n",
    "    tagname = tag\n",
    "    # Extract total number of posts in this hashtag\n",
    "    # NOTE: Class name may change in the website code\n",
    "    # Get the latest class name by inspecting web code\n",
    "    nposts = soup.find('span', {'class': 'g47SY'}).text\n",
    "         \n",
    "    # Extract all post links from 'explore tags' page\n",
    "    # Needed to extract post frequency of recent posts\n",
    "    myli = []\n",
    "    for a in soup.find_all('a', href=True):\n",
    "        myli.append(a['href'])\n",
    " \n",
    "    # Keep link of only 1st and 9th most recent post \n",
    "    newmyli = [x for x in myli if x.startswith('/p/')]\n",
    "    del newmyli[:9]\n",
    "    del newmyli[9:]\n",
    "    del newmyli[1:8]\n",
    " \n",
    "    timediff = []\n",
    " \n",
    "    # Extract the posting time of 1st and 9th most recent post for a tag\n",
    "    for j in range(len(newmyli)):\n",
    "        driver.get('https://www.instagram.com'+str(newmyli[j]))\n",
    "        soup = BeautifulSoup(driver.page_source,\"lxml\")\n",
    " \n",
    "        for i in soup.findAll('time'):\n",
    "            if i.has_attr('datetime'):\n",
    "                timediff.append(i['datetime'])\n",
    "                #print(i['datetime'])\n",
    " \n",
    "    # Calculate time difference between posts\n",
    "    # For obtaining posting frequency\n",
    "    datetimeFormat = '%Y-%m-%dT%H:%M:%S.%fZ'\n",
    "    diff = datetime.datetime.strptime(timediff[0], datetimeFormat)\\\n",
    "        - datetime.datetime.strptime(timediff[1], datetimeFormat)\n",
    "    pfreq= int(diff.total_seconds()/(9*60))\n",
    "     \n",
    "    # Add hashtag info to dataframe\n",
    "    tag_df.loc[len(tag_df)] = [tagname, nposts, pfreq]\n",
    "         \n",
    "driver.quit()"
   ]
  }
 ],
 "metadata": {
  "colab": {
   "collapsed_sections": [],
   "name": "instagram.ipynb",
   "provenance": [],
   "version": "0.3.2"
  },
  "kernelspec": {
   "display_name": "Python 3",
   "language": "python",
   "name": "python3"
  },
  "language_info": {
   "codemirror_mode": {
    "name": "ipython",
    "version": 3
   },
   "file_extension": ".py",
   "mimetype": "text/x-python",
   "name": "python",
   "nbconvert_exporter": "python",
   "pygments_lexer": "ipython3",
   "version": "3.7.3"
  }
 },
 "nbformat": 4,
 "nbformat_minor": 2
}
